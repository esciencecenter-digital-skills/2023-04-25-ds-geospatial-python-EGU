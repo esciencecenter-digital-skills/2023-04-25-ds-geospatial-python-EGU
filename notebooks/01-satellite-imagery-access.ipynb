{
 "cells": [
  {
   "cell_type": "markdown",
   "id": "f15cf3fb-adbf-4b5c-bac2-a3034cf13838",
   "metadata": {},
   "source": [
    "# Part 1: Access satellite imagery using Python"
   ]
  },
  {
   "cell_type": "markdown",
   "id": "478613c6-82b4-438c-9a39-c456e759beba",
   "metadata": {},
   "source": [
    "## Introduction\n",
    "\n",
    "* We consider optical satellite images from the [Sentinel-2 mission](https://sentinel.esa.int/web/sentinel/missions/sentinel-2), part of the European Union's [Copernicus](https://www.copernicus.eu/en) space programme. \n",
    "* We access Sentinel-2 data hosted on the Amazon Web Services (AWS) public cloud and part of the [Earth on AWS](https://aws.amazon.com/earth/) datasets. \n",
    "* These datasets can be accessed programmatically via a STAC compliant application programming interface (API)."
   ]
  },
  {
   "cell_type": "markdown",
   "id": "9a0345e5-c51c-40f8-aea5-a67db3c084f7",
   "metadata": {},
   "source": [
    "## The SpatioTemporal Asset Catalog (STAC) specification\n",
    "\n",
    "<center><img src=\"https://raw.githubusercontent.com/radiantearth/stac-site/master/images/logo/stac-030-long.png\" width=300px></center>\n",
    "\n",
    "[STAC](https://stacspec.org/en) is an emerging standard for describing geospatial data. Check out the [STAC index](https://stacindex.org) for the available catalogs!"
   ]
  },
  {
   "cell_type": "code",
   "execution_count": null,
   "id": "10519a09",
   "metadata": {},
   "outputs": [],
   "source": [
    "# If on Colab: uncomment and execute the following line\n",
    "# ! pip install pystac-client shapely"
   ]
  },
  {
   "cell_type": "markdown",
   "id": "eaeaf3c9-402f-46a8-a257-ecef30a62e93",
   "metadata": {},
   "source": [
    "## Search a STAC catalog\n",
    "\n",
    "We query the [Earth Search](https://www.element84.com/earth-search/) STAC API endpoint from Python using the library `pystac_client` (library documentation [here](https://pystac-client.readthedocs.io/en/stable/)):"
   ]
  },
  {
   "cell_type": "code",
   "execution_count": 1,
   "id": "e43573ff-dfb7-47cd-ae59-1a406de5294d",
   "metadata": {
    "tags": []
   },
   "outputs": [],
   "source": [
    "# STAC API URL \n",
    "api_url = 'https://earth-search.aws.element84.com/v1'"
   ]
  },
  {
   "cell_type": "code",
   "execution_count": 2,
   "id": "cb2f3f56-b3ca-4218-b07d-3dd85cabad64",
   "metadata": {},
   "outputs": [],
   "source": [
    "import pystac_client"
   ]
  },
  {
   "cell_type": "code",
   "execution_count": 3,
   "id": "d27b4b1a-4823-43f1-8f7e-82b2a91a451a",
   "metadata": {},
   "outputs": [],
   "source": [
    "client = pystac_client.Client.open(api_url)"
   ]
  },
  {
   "cell_type": "code",
   "execution_count": 6,
   "id": "fc889dd7-b240-4a33-842d-e9f95b64f99d",
   "metadata": {
    "tags": []
   },
   "outputs": [
    {
     "name": "stdout",
     "output_type": "stream",
     "text": [
      "<CollectionClient id=naip>\n",
      "<CollectionClient id=cop-dem-glo-30>\n",
      "<CollectionClient id=landsat-c2-l2>\n",
      "<CollectionClient id=sentinel-2-l2a>\n",
      "<CollectionClient id=sentinel-2-l1c>\n",
      "<CollectionClient id=cop-dem-glo-90>\n",
      "<CollectionClient id=sentinel-1-grd>\n"
     ]
    }
   ],
   "source": [
    "for collection in client.get_collections():\n",
    "    print(collection)"
   ]
  },
  {
   "cell_type": "markdown",
   "id": "4fb9c117-6729-4f03-8370-37f32fea668d",
   "metadata": {},
   "source": [
    "Let's query the service for some satellite scenes using the following parameters:"
   ]
  },
  {
   "cell_type": "code",
   "execution_count": 7,
   "id": "d083ac2f-97f3-43c4-a15c-de27da5d3f6b",
   "metadata": {},
   "outputs": [],
   "source": [
    "# collection ID\n",
    "collection = 'sentinel-2-l2a'"
   ]
  },
  {
   "cell_type": "code",
   "execution_count": 8,
   "id": "69fd1ec2-3860-4648-b54d-a7b52f4e1543",
   "metadata": {
    "tags": []
   },
   "outputs": [],
   "source": [
    "# AMS coordinates\n",
    "lon = 4.89\n",
    "lat = 52.37"
   ]
  },
  {
   "cell_type": "code",
   "execution_count": 9,
   "id": "55065178-64f3-429b-93e2-c607bc60d49f",
   "metadata": {},
   "outputs": [],
   "source": [
    "# date range\n",
    "datetime = '2020-03-20/2020-03-30'"
   ]
  },
  {
   "cell_type": "code",
   "execution_count": 10,
   "id": "3b2c4d7e-cd1d-4947-85d9-954e1d87863e",
   "metadata": {},
   "outputs": [],
   "source": [
    "import shapely"
   ]
  },
  {
   "cell_type": "code",
   "execution_count": 11,
   "id": "166114fb-b4c8-42da-9572-f4f79cd39a62",
   "metadata": {},
   "outputs": [],
   "source": [
    "point = shapely.Point(lon, lat)"
   ]
  },
  {
   "cell_type": "code",
   "execution_count": 12,
   "id": "4b1cd175-a4d7-4e60-99a8-2ea0233b8848",
   "metadata": {
    "tags": []
   },
   "outputs": [
    {
     "data": {
      "image/svg+xml": [
       "<svg xmlns=\"http://www.w3.org/2000/svg\" xmlns:xlink=\"http://www.w3.org/1999/xlink\" width=\"100.0\" height=\"100.0\" viewBox=\"3.8899999999999997 51.37 2.0 2.0\" preserveAspectRatio=\"xMinYMin meet\"><g transform=\"matrix(1,0,0,-1,0,104.74)\"><circle cx=\"4.89\" cy=\"52.37\" r=\"0.06\" stroke=\"#555555\" stroke-width=\"0.02\" fill=\"#66cc99\" opacity=\"0.6\" /></g></svg>"
      ],
      "text/plain": [
       "<POINT (4.89 52.37)>"
      ]
     },
     "execution_count": 12,
     "metadata": {},
     "output_type": "execute_result"
    }
   ],
   "source": [
    "point"
   ]
  },
  {
   "cell_type": "code",
   "execution_count": 13,
   "id": "5fe5c8f3-e4fe-48f4-9b75-3aade9238d1b",
   "metadata": {
    "tags": []
   },
   "outputs": [],
   "source": [
    "search = client.search(\n",
    "    collections=[collection],\n",
    "    intersects=point,\n",
    "    datetime=datetime,\n",
    "    # query=[\"eo:cloud_cover<15\"],\n",
    ")"
   ]
  },
  {
   "cell_type": "code",
   "execution_count": 14,
   "id": "271fb7f0-b6e5-4a6e-a553-b391306cfdd9",
   "metadata": {
    "tags": []
   },
   "outputs": [
    {
     "data": {
      "text/plain": [
       "4"
      ]
     },
     "execution_count": 14,
     "metadata": {},
     "output_type": "execute_result"
    }
   ],
   "source": [
    "search.matched()"
   ]
  },
  {
   "cell_type": "code",
   "execution_count": 15,
   "id": "497c7d6c-a44c-483a-94fc-1ed110dca0bc",
   "metadata": {
    "tags": []
   },
   "outputs": [],
   "source": [
    "items = search.get_all_items()"
   ]
  },
  {
   "cell_type": "code",
   "execution_count": 17,
   "id": "f9b34a39-0e23-461d-86ba-b963971fa22d",
   "metadata": {
    "tags": []
   },
   "outputs": [
    {
     "data": {
      "text/plain": [
       "4"
      ]
     },
     "execution_count": 17,
     "metadata": {},
     "output_type": "execute_result"
    }
   ],
   "source": [
    "len(items)"
   ]
  },
  {
   "cell_type": "code",
   "execution_count": 18,
   "id": "b8ab3cbb-dc4e-4315-b131-d60d9712aedf",
   "metadata": {
    "tags": []
   },
   "outputs": [
    {
     "name": "stdout",
     "output_type": "stream",
     "text": [
      "<Item id=S2A_31UFU_20200328_0_L2A>\n",
      "<Item id=S2B_31UFU_20200326_0_L2A>\n",
      "<Item id=S2B_31UFU_20200323_0_L2A>\n",
      "<Item id=S2A_31UFU_20200321_0_L2A>\n"
     ]
    }
   ],
   "source": [
    "for item in items:\n",
    "    print(item)"
   ]
  },
  {
   "cell_type": "code",
   "execution_count": 19,
   "id": "297ecd0e-9c40-43b1-af4b-dcc4d42fcf19",
   "metadata": {
    "tags": []
   },
   "outputs": [],
   "source": [
    "item = items[0]"
   ]
  },
  {
   "cell_type": "code",
   "execution_count": 21,
   "id": "e1e62e7f-4ee9-458b-ace9-4650e7e4441f",
   "metadata": {
    "tags": []
   },
   "outputs": [
    {
     "data": {
      "text/plain": [
       "{'type': 'Polygon',\n",
       " 'coordinates': [[[5.239432613310501, 53.228577890548],\n",
       "   [6.141754296879459, 53.20819279121764],\n",
       "   [6.071664488869862, 52.22257539160585],\n",
       "   [4.814996623122647, 52.24860251101384],\n",
       "   [5.239432613310501, 53.228577890548]]]}"
      ]
     },
     "execution_count": 21,
     "metadata": {},
     "output_type": "execute_result"
    }
   ],
   "source": [
    "item.geometry"
   ]
  },
  {
   "cell_type": "code",
   "execution_count": 22,
   "id": "5368d8a1-f4f6-4bcf-b879-51db0118c52b",
   "metadata": {
    "tags": []
   },
   "outputs": [
    {
     "data": {
      "text/plain": [
       "datetime.datetime(2020, 3, 28, 10, 46, 21, 777000, tzinfo=tzutc())"
      ]
     },
     "execution_count": 22,
     "metadata": {},
     "output_type": "execute_result"
    }
   ],
   "source": [
    "item.datetime"
   ]
  },
  {
   "cell_type": "code",
   "execution_count": 23,
   "id": "d5afc504-d683-4d09-8e3b-fd60a237df9a",
   "metadata": {
    "tags": []
   },
   "outputs": [
    {
     "data": {
      "text/plain": [
       "{'created': '2022-11-06T06:14:59.218Z',\n",
       " 'platform': 'sentinel-2a',\n",
       " 'constellation': 'sentinel-2',\n",
       " 'instruments': ['msi'],\n",
       " 'eo:cloud_cover': 10.348317,\n",
       " 'proj:epsg': 32631,\n",
       " 'mgrs:utm_zone': 31,\n",
       " 'mgrs:latitude_band': 'U',\n",
       " 'mgrs:grid_square': 'FU',\n",
       " 'grid:code': 'MGRS-31UFU',\n",
       " 'view:sun_azimuth': 161.396812076445,\n",
       " 'view:sun_elevation': 39.118884842535,\n",
       " 's2:degraded_msi_data_percentage': 0,\n",
       " 's2:nodata_pixel_percentage': 33.321813,\n",
       " 's2:saturated_defective_pixel_percentage': 0,\n",
       " 's2:dark_features_percentage': 2.234646,\n",
       " 's2:cloud_shadow_percentage': 0.851735,\n",
       " 's2:vegetation_percentage': 36.76089,\n",
       " 's2:not_vegetated_percentage': 17.856395,\n",
       " 's2:water_percentage': 27.841628,\n",
       " 's2:unclassified_percentage': 4.103604,\n",
       " 's2:medium_proba_clouds_percentage': 2.222784,\n",
       " 's2:high_proba_clouds_percentage': 7.55232,\n",
       " 's2:thin_cirrus_percentage': 0.573214,\n",
       " 's2:snow_ice_percentage': 0.002787,\n",
       " 's2:product_type': 'S2MSI2A',\n",
       " 's2:processing_baseline': '02.14',\n",
       " 's2:product_uri': 'S2A_MSIL2A_20200328T104021_N0214_R008_T31UFU_20200328T142124.SAFE',\n",
       " 's2:generation_time': '2020-03-28T14:21:24.000000Z',\n",
       " 's2:datatake_id': 'GS2A_20200328T104021_024887_N02.14',\n",
       " 's2:datatake_type': 'INS-NOBS',\n",
       " 's2:datastrip_id': 'S2A_OPER_MSI_L2A_DS_MPS__20200328T142124_S20200328T104145_N02.14',\n",
       " 's2:granule_id': 'S2A_OPER_MSI_L2A_TL_MPS__20200328T142124_A024887_T31UFU_N02.14',\n",
       " 's2:reflectance_conversion_factor': 1.00602795306982,\n",
       " 'datetime': '2020-03-28T10:46:21.777000Z',\n",
       " 's2:sequence': '0',\n",
       " 'earthsearch:s3_path': 's3://sentinel-cogs/sentinel-s2-l2a-cogs/31/U/FU/2020/3/S2A_31UFU_20200328_0_L2A',\n",
       " 'earthsearch:payload_id': 'roda-sentinel2/workflow-sentinel2-to-stac/7adfbcd102d1f17bb2d5f35fce7e1cb2',\n",
       " 'earthsearch:boa_offset_applied': False,\n",
       " 'processing:software': {'sentinel2-to-stac': '0.1.0'},\n",
       " 'updated': '2022-11-06T06:14:59.218Z'}"
      ]
     },
     "execution_count": 23,
     "metadata": {},
     "output_type": "execute_result"
    }
   ],
   "source": [
    "item.properties"
   ]
  },
  {
   "cell_type": "code",
   "execution_count": 24,
   "id": "2f38caa7-9479-4872-bbbb-9304f662e5f9",
   "metadata": {
    "tags": []
   },
   "outputs": [],
   "source": [
    "items.save_object(\"mysearch.json\")"
   ]
  },
  {
   "cell_type": "markdown",
   "id": "6234adab-8d39-4551-9186-4eb882944ab7",
   "metadata": {},
   "source": [
    "## Access the assets\n",
    "\n",
    "From the metadata, how do we get to the actual data (the \"assets\")? "
   ]
  },
  {
   "cell_type": "code",
   "execution_count": 26,
   "id": "5ca87bed-7639-40fb-98ec-fadc324e355c",
   "metadata": {},
   "outputs": [
    {
     "data": {
      "text/plain": [
       "dict_keys(['aot', 'blue', 'coastal', 'granule_metadata', 'green', 'nir', 'nir08', 'nir09', 'red', 'rededge1', 'rededge2', 'rededge3', 'scl', 'swir16', 'swir22', 'thumbnail', 'tileinfo_metadata', 'visual', 'wvp', 'aot-jp2', 'blue-jp2', 'coastal-jp2', 'green-jp2', 'nir-jp2', 'nir08-jp2', 'nir09-jp2', 'red-jp2', 'rededge1-jp2', 'rededge2-jp2', 'rededge3-jp2', 'scl-jp2', 'swir16-jp2', 'swir22-jp2', 'visual-jp2', 'wvp-jp2'])"
      ]
     },
     "execution_count": 26,
     "metadata": {},
     "output_type": "execute_result"
    }
   ],
   "source": [
    "item.assets.keys()"
   ]
  },
  {
   "cell_type": "code",
   "execution_count": 31,
   "id": "93fdb25d-555b-482c-9d4f-9ea3ece154be",
   "metadata": {},
   "outputs": [
    {
     "data": {
      "text/plain": [
       "'https://sentinel-cogs.s3.us-west-2.amazonaws.com/sentinel-s2-l2a-cogs/31/U/FU/2020/3/S2A_31UFU_20200328_0_L2A/thumbnail.jpg'"
      ]
     },
     "execution_count": 31,
     "metadata": {},
     "output_type": "execute_result"
    }
   ],
   "source": [
    "item.assets[\"thumbnail\"].href"
   ]
  },
  {
   "cell_type": "code",
   "execution_count": 32,
   "id": "5d92d856-bc4a-4e68-93dc-40859f874c6d",
   "metadata": {
    "tags": []
   },
   "outputs": [
    {
     "data": {
      "text/plain": [
       "'https://sentinel-cogs.s3.us-west-2.amazonaws.com/sentinel-s2-l2a-cogs/31/U/FU/2020/3/S2A_31UFU_20200328_0_L2A/B04.tif'"
      ]
     },
     "execution_count": 32,
     "metadata": {},
     "output_type": "execute_result"
    }
   ],
   "source": [
    "item.assets[\"red\"].href"
   ]
  },
  {
   "cell_type": "code",
   "execution_count": 34,
   "id": "9e2760e9-98dd-480d-85c8-c870bc58750e",
   "metadata": {
    "tags": []
   },
   "outputs": [],
   "source": [
    "asset = item.assets[\"red\"]"
   ]
  },
  {
   "cell_type": "code",
   "execution_count": 37,
   "id": "d1d58f05-a809-4f18-a066-63acd6921123",
   "metadata": {
    "tags": []
   },
   "outputs": [
    {
     "data": {
      "text/plain": [
       "['__annotations__',\n",
       " '__class__',\n",
       " '__delattr__',\n",
       " '__dict__',\n",
       " '__dir__',\n",
       " '__doc__',\n",
       " '__eq__',\n",
       " '__format__',\n",
       " '__ge__',\n",
       " '__getattribute__',\n",
       " '__gt__',\n",
       " '__hash__',\n",
       " '__init__',\n",
       " '__init_subclass__',\n",
       " '__le__',\n",
       " '__lt__',\n",
       " '__module__',\n",
       " '__ne__',\n",
       " '__new__',\n",
       " '__reduce__',\n",
       " '__reduce_ex__',\n",
       " '__repr__',\n",
       " '__setattr__',\n",
       " '__sizeof__',\n",
       " '__str__',\n",
       " '__subclasshook__',\n",
       " '__weakref__',\n",
       " '_repr_html_',\n",
       " 'clone',\n",
       " 'common_metadata',\n",
       " 'description',\n",
       " 'extra_fields',\n",
       " 'from_dict',\n",
       " 'get_absolute_href',\n",
       " 'has_role',\n",
       " 'href',\n",
       " 'media_type',\n",
       " 'owner',\n",
       " 'roles',\n",
       " 'set_owner',\n",
       " 'title',\n",
       " 'to_dict']"
      ]
     },
     "execution_count": 37,
     "metadata": {},
     "output_type": "execute_result"
    }
   ],
   "source": [
    "dir(asset)"
   ]
  },
  {
   "cell_type": "code",
   "execution_count": 38,
   "id": "a926ce0f-b919-4d91-83fb-6821e232924a",
   "metadata": {
    "tags": []
   },
   "outputs": [
    {
     "data": {
      "text/plain": [
       "{'eo:bands': [{'name': 'red',\n",
       "   'common_name': 'red',\n",
       "   'description': 'Red (band 4)',\n",
       "   'center_wavelength': 0.665,\n",
       "   'full_width_half_max': 0.038}],\n",
       " 'gsd': 10,\n",
       " 'proj:shape': [10980, 10980],\n",
       " 'proj:transform': [10, 0, 600000, 0, -10, 5900040],\n",
       " 'raster:bands': [{'nodata': 0,\n",
       "   'data_type': 'uint16',\n",
       "   'bits_per_sample': 15,\n",
       "   'spatial_resolution': 10,\n",
       "   'scale': 0.0001,\n",
       "   'offset': 0}]}"
      ]
     },
     "execution_count": 38,
     "metadata": {},
     "output_type": "execute_result"
    }
   ],
   "source": [
    "asset.extra_fields"
   ]
  }
 ],
 "metadata": {
  "kernelspec": {
   "display_name": "Python 3 (ipykernel)",
   "language": "python",
   "name": "python3"
  },
  "language_info": {
   "codemirror_mode": {
    "name": "ipython",
    "version": 3
   },
   "file_extension": ".py",
   "mimetype": "text/x-python",
   "name": "python",
   "nbconvert_exporter": "python",
   "pygments_lexer": "ipython3",
   "version": "3.10.10"
  }
 },
 "nbformat": 4,
 "nbformat_minor": 5
}
