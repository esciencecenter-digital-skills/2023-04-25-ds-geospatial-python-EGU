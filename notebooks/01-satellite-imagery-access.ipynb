{
 "cells": [
  {
   "cell_type": "markdown",
   "id": "f15cf3fb-adbf-4b5c-bac2-a3034cf13838",
   "metadata": {},
   "source": [
    "# Part 1: Access satellite imagery using Python"
   ]
  },
  {
   "cell_type": "markdown",
   "id": "478613c6-82b4-438c-9a39-c456e759beba",
   "metadata": {},
   "source": [
    "## Introduction\n",
    "\n",
    "* We consider optical satellite images from the [Sentinel-2 mission](https://sentinel.esa.int/web/sentinel/missions/sentinel-2), part of the European Union's [Copernicus](https://www.copernicus.eu/en) space programme. \n",
    "* We access Sentinel-2 data hosted on the Amazon Web Services (AWS) public cloud and part of the [Earth on AWS](https://aws.amazon.com/earth/) datasets. \n",
    "* These datasets can be accessed programmatically via a STAC compliant application programming interface (API)."
   ]
  },
  {
   "cell_type": "markdown",
   "id": "9a0345e5-c51c-40f8-aea5-a67db3c084f7",
   "metadata": {},
   "source": [
    "## The SpatioTemporal Asset Catalog (STAC) specification\n",
    "\n",
    "<center><img src=\"https://raw.githubusercontent.com/radiantearth/stac-site/master/images/logo/stac-030-long.png\" width=300px></center>\n",
    "\n",
    "[STAC](https://stacspec.org/en) is an emerging standard for describing geospatial data. Check out the [STAC index](https://stacindex.org) for the available catalogs!"
   ]
  },
  {
   "cell_type": "code",
   "execution_count": null,
   "id": "10519a09",
   "metadata": {},
   "outputs": [],
   "source": [
    "# If on Colab: uncomment and execute the following line\n",
    "# ! pip install pystac-client shapely"
   ]
  },
  {
   "cell_type": "markdown",
   "id": "eaeaf3c9-402f-46a8-a257-ecef30a62e93",
   "metadata": {},
   "source": [
    "## Search a STAC catalog\n",
    "\n",
    "We query the [Earth Search](https://www.element84.com/earth-search/) STAC API endpoint from Python using the library `pystac_client` (library documentation [here](https://pystac-client.readthedocs.io/en/stable/)):"
   ]
  },
  {
   "cell_type": "code",
   "execution_count": null,
   "id": "e43573ff-dfb7-47cd-ae59-1a406de5294d",
   "metadata": {
    "tags": []
   },
   "outputs": [],
   "source": [
    "# STAC API URL \n",
    "api_url = 'https://earth-search.aws.element84.com/v1'"
   ]
  },
  {
   "cell_type": "code",
   "execution_count": null,
   "id": "cb2f3f56-b3ca-4218-b07d-3dd85cabad64",
   "metadata": {},
   "outputs": [],
   "source": []
  },
  {
   "cell_type": "code",
   "execution_count": null,
   "id": "d27b4b1a-4823-43f1-8f7e-82b2a91a451a",
   "metadata": {},
   "outputs": [],
   "source": []
  },
  {
   "cell_type": "markdown",
   "id": "4fb9c117-6729-4f03-8370-37f32fea668d",
   "metadata": {},
   "source": [
    "Let's query the service for some satellite scenes using the following parameters:"
   ]
  },
  {
   "cell_type": "code",
   "execution_count": null,
   "id": "d083ac2f-97f3-43c4-a15c-de27da5d3f6b",
   "metadata": {},
   "outputs": [],
   "source": [
    "# collection ID\n",
    "collection = 'sentinel-2-l2a'"
   ]
  },
  {
   "cell_type": "code",
   "execution_count": null,
   "id": "69fd1ec2-3860-4648-b54d-a7b52f4e1543",
   "metadata": {
    "tags": []
   },
   "outputs": [],
   "source": [
    "# AMS coordinates\n",
    "lon = 4.89\n",
    "lat = 52.37"
   ]
  },
  {
   "cell_type": "code",
   "execution_count": null,
   "id": "55065178-64f3-429b-93e2-c607bc60d49f",
   "metadata": {},
   "outputs": [],
   "source": [
    "# date range\n",
    "datetime = '2020-03-20/2020-03-30'"
   ]
  },
  {
   "cell_type": "code",
   "execution_count": null,
   "id": "3b2c4d7e-cd1d-4947-85d9-954e1d87863e",
   "metadata": {},
   "outputs": [],
   "source": []
  },
  {
   "cell_type": "code",
   "execution_count": null,
   "id": "166114fb-b4c8-42da-9572-f4f79cd39a62",
   "metadata": {},
   "outputs": [],
   "source": []
  },
  {
   "cell_type": "markdown",
   "id": "6234adab-8d39-4551-9186-4eb882944ab7",
   "metadata": {},
   "source": [
    "## Access the assets\n",
    "\n",
    "From the metadata, how do we get to the actual data (the \"assets\")? "
   ]
  },
  {
   "cell_type": "code",
   "execution_count": null,
   "id": "5ca87bed-7639-40fb-98ec-fadc324e355c",
   "metadata": {},
   "outputs": [],
   "source": []
  },
  {
   "cell_type": "code",
   "execution_count": null,
   "id": "93fdb25d-555b-482c-9d4f-9ea3ece154be",
   "metadata": {},
   "outputs": [],
   "source": []
  }
 ],
 "metadata": {
  "kernelspec": {
   "display_name": "Python 3 (ipykernel)",
   "language": "python",
   "name": "python3"
  },
  "language_info": {
   "codemirror_mode": {
    "name": "ipython",
    "version": 3
   },
   "file_extension": ".py",
   "mimetype": "text/x-python",
   "name": "python",
   "nbconvert_exporter": "python",
   "pygments_lexer": "ipython3",
   "version": "3.10.10"
  }
 },
 "nbformat": 4,
 "nbformat_minor": 5
}
