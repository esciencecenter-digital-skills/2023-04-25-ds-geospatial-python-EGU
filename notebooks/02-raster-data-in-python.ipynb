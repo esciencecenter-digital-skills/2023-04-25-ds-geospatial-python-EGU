{
 "cells": [
  {
   "cell_type": "markdown",
   "id": "68a954a5-4800-447d-9069-559e7ad6ae89",
   "metadata": {},
   "source": [
    "# Part 2: Read and visualize raster data"
   ]
  },
  {
   "cell_type": "markdown",
   "id": "358f5100-ad2a-4b17-afa8-d5f6577e647b",
   "metadata": {},
   "source": [
    "## Introduction\n",
    "\n",
    "* We consider optical satellite images from the [Sentinel-2 mission](https://sentinel.esa.int/web/sentinel/missions/sentinel-2), part of the European Union's [Copernicus](https://www.copernicus.eu/en) space programme. \n",
    "* We use `rioxarray`, which combines the functionalities of the `rasterio` package to work with rasters and `xarray` to handle multi-dimensional arrays. \n",
    "* We open a raster file as a `DataArray` and explore the attributes and methods of this object."
   ]
  },
  {
   "cell_type": "markdown",
   "id": "4234e78d-061d-41d1-8a7c-e1ddbb341460",
   "metadata": {},
   "source": [
    "## Load a raster\n",
    "\n",
    "We open a raster file using `rioxarray` (library documentation [here](https://corteva.github.io/rioxarray/stable/readme.html)):"
   ]
  },
  {
   "cell_type": "code",
   "execution_count": null,
   "id": "94fc7b99-aefd-4be7-ac42-88b25d76e714",
   "metadata": {},
   "outputs": [],
   "source": [
    "# path to the raster file (band 9, water vapour)\n",
    "raster_path = '../data/S2A_31UFU_20200328_0_L2A_B09.tif'"
   ]
  },
  {
   "cell_type": "code",
   "execution_count": null,
   "id": "4ee75a2a-f9d8-4cfb-8e3d-17dd78e088c7",
   "metadata": {},
   "outputs": [],
   "source": []
  },
  {
   "cell_type": "code",
   "execution_count": null,
   "id": "59325c89-9dcc-4a7d-b9a2-50a0d3846c75",
   "metadata": {},
   "outputs": [],
   "source": []
  },
  {
   "cell_type": "markdown",
   "id": "1a946868-222d-43ce-a544-d3b7fb15cf4f",
   "metadata": {},
   "source": [
    "## Visualize a raster"
   ]
  },
  {
   "cell_type": "code",
   "execution_count": null,
   "id": "06617b4c-19e9-4a21-ae6e-19be5d25ac54",
   "metadata": {},
   "outputs": [],
   "source": []
  },
  {
   "cell_type": "code",
   "execution_count": null,
   "id": "da36ac8c-5de9-4729-b2e8-aa93a1169036",
   "metadata": {},
   "outputs": [],
   "source": []
  },
  {
   "cell_type": "markdown",
   "id": "e361d121-7fc9-4e93-95a1-31124b9ff6b0",
   "metadata": {},
   "source": [
    "## Missing data"
   ]
  },
  {
   "cell_type": "code",
   "execution_count": null,
   "id": "ca9d3f79-e6fa-4b53-86f1-d86e520c87fa",
   "metadata": {},
   "outputs": [],
   "source": []
  },
  {
   "cell_type": "code",
   "execution_count": null,
   "id": "82d80a08-7d1e-40d4-88d9-aae757767504",
   "metadata": {},
   "outputs": [],
   "source": []
  },
  {
   "cell_type": "markdown",
   "id": "50f7b11f-181b-4c45-a267-29d8bac020e4",
   "metadata": {},
   "source": [
    "## Coordinate Reference System (CRS) in Python\n",
    "\n",
    "For more information about the CRS (e.g. its area of use), we use `pyproj` (documentaion [here](https://pyproj4.github.io/pyproj/stable/))."
   ]
  },
  {
   "cell_type": "code",
   "execution_count": null,
   "id": "beea83a3-7935-4e59-8049-0588a3793ba9",
   "metadata": {},
   "outputs": [],
   "source": []
  },
  {
   "cell_type": "code",
   "execution_count": null,
   "id": "7300f05d-6333-495a-95f3-06306fefc6de",
   "metadata": {},
   "outputs": [],
   "source": []
  },
  {
   "cell_type": "markdown",
   "id": "8e0d0bf4-d228-4087-adee-c32369d563a6",
   "metadata": {},
   "source": [
    "## Calculate raster statistics"
   ]
  },
  {
   "cell_type": "code",
   "execution_count": null,
   "id": "042d254d-c25a-48f1-98aa-ac3dba520364",
   "metadata": {},
   "outputs": [],
   "source": []
  },
  {
   "cell_type": "code",
   "execution_count": null,
   "id": "972bdaff-8547-44b9-8478-a1ef57dad0eb",
   "metadata": {},
   "outputs": [],
   "source": []
  },
  {
   "cell_type": "markdown",
   "id": "de175620-31fb-4cbe-818a-90137b40d809",
   "metadata": {},
   "source": [
    "## Multi-band rasters\n",
    "\n",
    "An example of multi-band raster is the true color image: a raster where the red, green and blue (RGB) channels are stored as three layers (\"bands\")."
   ]
  },
  {
   "cell_type": "code",
   "execution_count": null,
   "id": "374ef166-d071-4d8a-869c-820355ba1e82",
   "metadata": {},
   "outputs": [],
   "source": [
    "# path to the multi-band raster file (true color image)\n",
    "raster_path = '../data/S2A_31UFU_20200328_0_L2A_B09.tif'"
   ]
  },
  {
   "cell_type": "code",
   "execution_count": null,
   "id": "2e6cbd4f-b60d-4432-80f1-61453d49f79f",
   "metadata": {},
   "outputs": [],
   "source": []
  },
  {
   "cell_type": "code",
   "execution_count": null,
   "id": "f94074ef-1311-43cb-a525-dafa991c03d8",
   "metadata": {},
   "outputs": [],
   "source": []
  }
 ],
 "metadata": {
  "kernelspec": {
   "display_name": "Python 3 (ipykernel)",
   "language": "python",
   "name": "python3"
  },
  "language_info": {
   "codemirror_mode": {
    "name": "ipython",
    "version": 3
   },
   "file_extension": ".py",
   "mimetype": "text/x-python",
   "name": "python",
   "nbconvert_exporter": "python",
   "pygments_lexer": "ipython3",
   "version": "3.10.10"
  }
 },
 "nbformat": 4,
 "nbformat_minor": 5
}
